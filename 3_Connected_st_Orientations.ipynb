{
  "nbformat": 4,
  "nbformat_minor": 0,
  "metadata": {
    "colab": {
      "name": "3-Connected st-Orientations",
      "provenance": [],
      "collapsed_sections": [],
      "toc_visible": true
    },
    "kernelspec": {
      "name": "python3",
      "display_name": "Python 3"
    }
  },
  "cells": [
    {
      "cell_type": "markdown",
      "metadata": {
        "id": "55KcSG5HBDy0"
      },
      "source": [
        "#Preliminary"
      ]
    },
    {
      "cell_type": "markdown",
      "metadata": {
        "id": "MElHxoJlBIek"
      },
      "source": [
        "Imports:"
      ]
    },
    {
      "cell_type": "code",
      "metadata": {
        "id": "N8vmt4jtBJrk"
      },
      "source": [
        "import math\r\n",
        "import random\r\n",
        "import numpy as np\r\n",
        "import networkx as nx\r\n",
        "import networkx.algorithms.cycles as cyc\r\n",
        "import networkx.algorithms.dag as dag\r\n",
        "import matplotlib.pyplot as plt"
      ],
      "execution_count": 1,
      "outputs": []
    },
    {
      "cell_type": "markdown",
      "metadata": {
        "id": "yI3G_RHUfl2f"
      },
      "source": [
        "#Implementation of Plestenjak's Planar Graph Drawing Algorithm"
      ]
    },
    {
      "cell_type": "markdown",
      "metadata": {
        "id": "PgwdqkJB6aYv"
      },
      "source": [
        "In the paper, Plestenjak presents this algorithm to draw planar, 3-connected graphs. It works for other kinds, however, as long as they have at least 1 cycle. The chosen source node for ``` find_cycle()``` would need to be in said cycle, however. Thus, maybe another way for finding a cycle would be better.\r\n"
      ]
    },
    {
      "cell_type": "code",
      "metadata": {
        "id": "aTtsT0ttJzwV"
      },
      "source": [
        "#testing Tutte Graph\n",
        "G = nx.tutte_graph() #[0, 1, 2, ..., 44, 45]\n",
        "n = G.number_of_nodes()\n",
        "\n",
        "#recommended parameters\n",
        "C = math.sqrt(n / math.pi)\n",
        "def cool(i):\n",
        "  return math.sqrt(math.pi / n) / ((1 + (math.pi / n) * i ** (3 / 2)))\n",
        " \n",
        "#actual algorithm, adds the coordinates to each node. We can automate the maxIteration\n",
        "def PlanarEmbed(G, max, C=C, cool=cool, source=None): #default parameters for easy use\n",
        "    #at the moment, random source and ignore orientation (good)\n",
        "    if source == None:\n",
        "        source = random.choice(list(G.nodes)) #since this finds longest path, hamiltonian graphs look uninteresting\n",
        "    outerCycle = list(cyc.find_cycle(G, source=source))\n",
        "    #get inner and outer node sets\n",
        "    outerNodes = [e[0] for e in outerCycle]\n",
        "    innerNodes = [v for v in G.nodes if not v in outerNodes]\n",
        " \n",
        "    #step 1\n",
        "    q = len(outerNodes)\n",
        "    for i in range(q): #for outer nodes, unit circle coordinates\n",
        "        v = outerNodes[i]\n",
        "        angle = (2 * math.pi * i) / q\n",
        "        x, y = math.cos(angle), math.sin(angle)\n",
        "        G.nodes[v][\"position\"] = np.array([x, y], dtype=float)\n",
        " \n",
        "    for v in innerNodes: #for inner nodes, zero vector coordinate\n",
        "        G.nodes[v][\"position\"] = np.zeros(2, dtype=float)\n",
        " \n",
        "    #step 2\n",
        "    for i in range(max):\n",
        "        for v in G.nodes: #a: set the force to 0 for all v\n",
        "            G.nodes[v][\"force\"] = np.zeros(2, dtype=float)\n",
        "        \n",
        "        for e in G.edges: #b: adjust force for inner and outer v\n",
        "            u = e[0]\n",
        "            v = e[1]\n",
        "            posv = G.nodes[v][\"position\"]\n",
        "            posu = G.nodes[u][\"position\"]\n",
        "            F = C * np.power((posv - posu), 3)\n",
        "            G.nodes[u][\"force\"] += F\n",
        "            G.nodes[v][\"force\"] -= F\n",
        "        \n",
        "        for v in innerNodes: #c: move coordinates for inner v\n",
        "            F = G.nodes[v][\"force\"]\n",
        "            d = np.linalg.norm(F)\n",
        "            if (d > 0): #avoids div by 0, not all inner are neighbors to outers\n",
        "                displacement = (min([d, cool(i)]) / d)\n",
        "                G.nodes[v][\"position\"] += displacement * F \n",
        " \n",
        "def PlotGraph(G):\n",
        "    for e in G.edges:\n",
        "        u = e[0]\n",
        "        v = e[1]\n",
        "        pos1 = G.nodes[u][\"position\"]\n",
        "        pos2 = G.nodes[v][\"position\"]\n",
        "        x1, x2 = pos1[0], pos2[0]\n",
        "        y1, y2 = pos1[1], pos2[1]\n",
        "        plt.plot([x1, x2], [y1, y2], 'go-', markersize=2.7, linewidth=1)\n",
        "        plt.xlim(-1, 1)\n",
        "        plt.ylim(-1, 1)\n",
        "        plt.gca().set_aspect('equal', adjustable='box')\n",
        "        plt.draw()\n",
        "\n",
        "def PlotDirectedGraph(G, s, t):\n",
        "    for e in G.edges:\n",
        "        u = e[0]\n",
        "        v = e[1]\n",
        "        color = \"green\"\n",
        "        if (u == s):\n",
        "            color = \"blue\"\n",
        "        elif (v == t):\n",
        "            color = \"red\"\n",
        "        pos1 = G.nodes[u][\"position\"]\n",
        "        pos2 = G.nodes[v][\"position\"]\n",
        "        x1, x2 = pos1[0], pos2[0]\n",
        "        y1, y2 = pos1[1], pos2[1]\n",
        "        plt.plot(x1, y1, \"go--\", markersize=2.7, color=color, label=u)\n",
        "        plt.plot(x2, y2, \"go--\", markersize=2.7, color=color, label=v)\n",
        "        plt.arrow(x1, y1, x2-x1, y2-y1, \n",
        "                  color=\"black\",\n",
        "                  length_includes_head=True,\n",
        "                  linewidth=0.5,\n",
        "                  head_width=0.03, \n",
        "                  head_length=0.05)"
      ],
      "execution_count": 93,
      "outputs": []
    },
    {
      "cell_type": "code",
      "metadata": {
        "colab": {
          "base_uri": "https://localhost:8080/",
          "height": 269
        },
        "id": "Jhy0TtCGBRDG",
        "outputId": "090262e7-552c-4788-a459-fcc3d12f548b"
      },
      "source": [
        "PlanarEmbed(G, 256)\r\n",
        "PlotGraph(G)"
      ],
      "execution_count": 14,
      "outputs": [
        {
          "output_type": "display_data",
          "data": {
            "image/png": "[encoded data removed]",
            "text/plain": [
              "<Figure size 432x288 with 1 Axes>"
            ]
          },
          "metadata": {
            "tags": [],
            "needs_background": "light"
          }
        }
      ]
    },
    {
      "cell_type": "markdown",
      "metadata": {
        "id": "flkj2JzlhFoB"
      },
      "source": [
        "Since the function ```find_cycle()``` finds the longest cycle starting from the source, hamiltonian graphs produce uninteresting embeddings due to **every** vertex being in the outer unit circle. This likely produces a self-intersecting embedding of a planar graph.\r\n",
        "\r\n",
        "For example, the embedding of the dodecahedral graph:\r\n",
        "\r\n",
        "![index.png](data:image/png;base64,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)"
      ]
    },
    {
      "cell_type": "markdown",
      "metadata": {
        "id": "1Omb1gYa4Hua"
      },
      "source": [
        "#Implementation of Papamanthou-Tollis Parameterized st-Orientation Generator"
      ]
    },
    {
      "cell_type": "markdown",
      "metadata": {
        "id": "-XBOodPajtj7"
      },
      "source": [
        "This is an implementation of the standard STN, where ```choose()``` is a random sampling"
      ]
    },
    {
      "cell_type": "markdown",
      "metadata": {
        "id": "q4q5ceDhCBrE"
      },
      "source": [
        "choose functions"
      ]
    },
    {
      "cell_type": "code",
      "metadata": {
        "id": "93kbIi6-B_xX"
      },
      "source": [
        "def choose_standard(Q, block):\r\n",
        "    return Q.intersection(set(block))\r\n",
        "\r\n",
        "def choose_max(Q, block):\r\n",
        "    global m\r\n",
        "    max_weight = max([m[v] for v in Q])\r\n",
        "    return {v for v in Q if m[v] == max_weight}\r\n",
        "\r\n",
        "def choose_min(Q, block):\r\n",
        "    global m\r\n",
        "    min_weight = min([m[v] for v in Q])\r\n",
        "    return {v for v in Q if m[v] == min_weight}\r\n",
        "\r\n",
        "def choose_par(Q, block, p):\r\n",
        "    global j, n\r\n",
        "    if j < p * n:\r\n",
        "        return choose_max(Q, block)\r\n",
        "    else:\r\n",
        "        return choose_min(Q, block)"
      ],
      "execution_count": 3,
      "outputs": []
    },
    {
      "cell_type": "markdown",
      "metadata": {
        "id": "6OOFx6KACED2"
      },
      "source": [
        "Base Algorithm"
      ]
    },
    {
      "cell_type": "code",
      "metadata": {
        "id": "SH7WXHbSXYnW"
      },
      "source": [
        "def UpdateBlocks(G):\r\n",
        "    global t\r\n",
        "\r\n",
        "    T = nx.DiGraph()\r\n",
        "\r\n",
        "    cut_points = list(nx.articulation_points(G))\r\n",
        "    blocks = [tuple(x) for x in nx.biconnected_components(G)]\r\n",
        "\r\n",
        "    root = None\r\n",
        "    for b in blocks:\r\n",
        "        if t in b:\r\n",
        "            root = b\r\n",
        "\r\n",
        "    T.add_node(root)\r\n",
        "\r\n",
        "    block_stack = []\r\n",
        "    processed_blocks = []\r\n",
        "    processed_nodes = []\r\n",
        "    block_stack.append(root)\r\n",
        "\r\n",
        "    while (block_stack):\r\n",
        "        r = block_stack.pop()\r\n",
        "\r\n",
        "        processed_blocks.append(r)\r\n",
        "        cut_point_children = [cp for cp in r if cp in cut_points and not cp in processed_nodes]\r\n",
        "\r\n",
        "        for cp in cut_point_children:\r\n",
        "            T.add_node(cp)\r\n",
        "            T.add_edge(r, cp)\r\n",
        "\r\n",
        "            processed_nodes.append(cp)\r\n",
        "            block_children = [b for b in blocks if cp in b and not b in processed_blocks]\r\n",
        "\r\n",
        "            for b in block_children:\r\n",
        "                T.add_node(b)\r\n",
        "                T.add_edge(cp, b)\r\n",
        "\r\n",
        "                block_stack.append(b)\r\n",
        "\r\n",
        "    #nx.draw_networkx(T, arrows=True)\r\n",
        "    return T\r\n",
        "\r\n",
        "def STREC(G, v, choose):\r\n",
        "    global F, j, Q, m, f, n, t\r\n",
        "\r\n",
        "    j = j+1\r\n",
        "    f[v] = j #assuming vertex labels are ints\r\n",
        "    \r\n",
        "    neighbors = list(G.neighbors(v))\r\n",
        "\r\n",
        "    F.add_node(v)\r\n",
        "    [F.add_edge(v, n) for n in neighbors]\r\n",
        "    G.remove_node(v)\r\n",
        "\r\n",
        "    Q = Q.union({n for n in neighbors if n != t})\r\n",
        "    Q.discard(v)\r\n",
        "\r\n",
        "    for n in neighbors:\r\n",
        "        m[n] = j\r\n",
        "\r\n",
        "    if not Q:\r\n",
        "        f[t] = n\r\n",
        "        return\r\n",
        "\r\n",
        "    else:\r\n",
        "        T = UpdateBlocks(G)\r\n",
        "        leaf_blocks = [node for node in T.nodes if T.out_degree(node)==0]\r\n",
        "\r\n",
        "        for block in leaf_blocks:\r\n",
        "            predecessors = list(T.predecessors(block))\r\n",
        "\r\n",
        "            if not predecessors: #no predecessors, G is still biconnected\r\n",
        "                choosable = choose(Q, block)\r\n",
        "            else:\r\n",
        "                p = predecessors[0]\r\n",
        "                choosable = choose(Q, block)\r\n",
        "                choosable.discard(p)\r\n",
        "\r\n",
        "            if choosable:\r\n",
        "                choice = random.choice(list(choosable))\r\n",
        "                STREC(G, choice, choose)"
      ],
      "execution_count": 53,
      "outputs": []
    },
    {
      "cell_type": "markdown",
      "metadata": {
        "id": "yDIMFwttJsG7"
      },
      "source": [
        "STN variants"
      ]
    },
    {
      "cell_type": "code",
      "metadata": {
        "id": "lehGOHBkIgpR"
      },
      "source": [
        "def STN(G, s, choose=choose_standard):\r\n",
        "    if (not nx.is_biconnected(G)):\r\n",
        "        return\r\n",
        "    STREC(G, s, choose)\r\n",
        "\r\n",
        "def MAX_STN(G, s):\r\n",
        "    STN(G, s, choose=choose_max)\r\n",
        "\r\n",
        "def MIN_STN(G, s):\r\n",
        "    STN(G, s, choose=choose_min)\r\n",
        "\r\n",
        "def PAR_STN(G, s, p):\r\n",
        "    STN(G, s, choose=lambda Q, b: choose_par(Q, b, p))\r\n"
      ],
      "execution_count": 5,
      "outputs": []
    },
    {
      "cell_type": "markdown",
      "metadata": {
        "id": "1fkReGPJJzlT"
      },
      "source": [
        "Assignments\r\n",
        "\r\n"
      ]
    },
    {
      "cell_type": "code",
      "metadata": {
        "id": "3-oIafCVJ3ql"
      },
      "source": [
        "#example tutte graph\r\n",
        "G = nx.tutte_graph()\r\n",
        "n = G.number_of_nodes()\r\n",
        "\r\n",
        "F = nx.DiGraph()\r\n",
        "m = np.zeros(G.number_of_nodes(), dtype=int)\r\n",
        "f = np.zeros(G.number_of_nodes(), dtype=int)\r\n",
        "j = 0\r\n",
        "Q = {s}"
      ],
      "execution_count": 83,
      "outputs": []
    },
    {
      "cell_type": "code",
      "metadata": {
        "id": "it79G_80ijDt"
      },
      "source": [
        "s, t = random.sample(list(G.nodes), 2) #choose sink more intelligently (accounting distance from source)"
      ],
      "execution_count": 84,
      "outputs": []
    },
    {
      "cell_type": "markdown",
      "metadata": {
        "id": "Cxy9fyvCJvVK"
      },
      "source": [
        "Execution \r\n",
        "\r\n",
        "---\r\n",
        "\r\n",
        "\r\n",
        "(for some reason Max/Min STN has a strange error when first executed, 2nd time onwards works. No idea what it is, probably strange global/recursion stuff. They both work though. PAR_STN not working.)"
      ]
    },
    {
      "cell_type": "code",
      "metadata": {
        "colab": {
          "base_uri": "https://localhost:8080/"
        },
        "id": "xv1cFhJgIkfY",
        "outputId": "cee94d50-1b44-4a50-d296-4b16f4eb07fb"
      },
      "source": [
        "#execution\r\n",
        "STN(G, s)\r\n",
        "\r\n",
        "print(f\"s, t: {s}, {t}\")\r\n",
        "print(m)\r\n",
        "print(f)\r\n",
        "#nx.draw_networkx(F, arrows=True)"
      ],
      "execution_count": 85,
      "outputs": [
        {
          "output_type": "stream",
          "text": [
            "s, t: 37, 42\n",
            "[ 6  5 10  7  0  5 13  3  2  1  2 11 29 30 24 38 40 37 36 33 34 23 32 22\n",
            " 21 17  6 14 19 15  9 15 20  8  4 28 27  0  3 26 42 43 45 42 41 34]\n",
            "[ 7  6 11 33  5 13 14 12  3  2 10 26 30 31 25 39 41 40 37 34 35 32 38 23\n",
            " 22 18  8 19 20 16 15 17 21  9 24 29 28  1  4 27 43 45 42 44 42 36]\n"
          ],
          "name": "stdout"
        }
      ]
    },
    {
      "cell_type": "markdown",
      "metadata": {
        "id": "DgYnmIIrSkZQ"
      },
      "source": [
        "Visualization \r\n",
        "\r\n",
        "\r\n",
        "---\r\n",
        "\r\n",
        "\r\n",
        "(Working? Sink t isnt uniquely colored for some reason. Also, not always planar :/ probably due to not choosing longest face)"
      ]
    },
    {
      "cell_type": "code",
      "metadata": {
        "colab": {
          "base_uri": "https://localhost:8080/",
          "height": 338
        },
        "id": "NbjgAqalP-DV",
        "outputId": "96138ff7-eddc-4b49-cf7f-7495d75c9f21"
      },
      "source": [
        "#We can only embed an undirected graph, so we make a copy of F to embed\r\n",
        "R = nx.Graph(F.edges) #make nondirected copy of F\r\n",
        "PlanarEmbed(R, 256, source=s) #embed copy\r\n",
        "\r\n",
        "for v in R.nodes:\r\n",
        "    for attribute in R.nodes[v]:\r\n",
        "        F.nodes[v][attribute] = R.nodes[v][attribute] #set the embed attributes in directed graph\r\n",
        "\r\n",
        "PlotDirectedGraph(F, s, t) #plot directed graph\r\n",
        "\r\n",
        "longest_path = dag.dag_longest_path(F)\r\n",
        "shortest_path = nx.shortest_path(F, source=s, target=t)\r\n",
        "\r\n",
        "print(f\"s, t: {s}, {t}\")\r\n",
        "print(f\"longest path (length {len(longest_path)-1}): {longest_path}\")\r\n",
        "print(f\"shortest path (length {len(shortest_path)-1}): {shortest_path}\")\r\n",
        "print([v for v in F.nodes if F.out_degree(v)==0])"
      ],
      "execution_count": 94,
      "outputs": [
        {
          "output_type": "stream",
          "text": [
            "s, t: 37, 42\n",
            "longest path (length 17): [4, 1, 26, 33, 30, 29, 28, 32, 24, 23, 21, 22, 15, 16, 44, 40, 41, 42]\n",
            "shortest path (length 9): [37, 36, 35, 12, 13, 15, 16, 44, 43, 42]\n",
            "[42]\n"
          ],
          "name": "stdout"
        },
        {
          "output_type": "display_data",
          "data": {
            "image/png": "[encoded data removed]",
            "text/plain": [
              "<Figure size 432x288 with 1 Axes>"
            ]
          },
          "metadata": {
            "tags": [],
            "needs_background": "light"
          }
        }
      ]
    },
    {
      "cell_type": "markdown",
      "metadata": {
        "id": "mkg3pnovuQyX"
      },
      "source": [
        "#References"
      ]
    },
    {
      "cell_type": "markdown",
      "metadata": {
        "id": "fn8hZsjtgCEF"
      },
      "source": [
        "References:\n",
        " \n",
        "---\n",
        " \n",
        "B. Plestenjak, 'An Algorithm for Drawing Planar Graphs' https://www.fmf.uni-lj.si/~plestenjak/Papers/schlegel\n",
        " \n",
        "C. Papamanthou, I. G. Tollis, 'Algorithms for computing a parameterized st-orientation' https://www.researchgate.net/publication/220149886_Algorithms_for_computing_a_parameterized_st-orientation"
      ]
    }
  ]
}