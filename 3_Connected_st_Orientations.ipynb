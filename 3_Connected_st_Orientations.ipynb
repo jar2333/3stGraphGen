{
  "nbformat": 4,
  "nbformat_minor": 0,
  "metadata": {
    "colab": {
      "name": "3-Connected st-Orientations for Nonlinear Proedural Dungeon Design",
      "provenance": [],
      "collapsed_sections": []
    },
    "kernelspec": {
      "name": "python3",
      "display_name": "Python 3"
    }
  },
  "cells": [
    {
      "cell_type": "markdown",
      "metadata": {
        "id": "yI3G_RHUfl2f"
      },
      "source": [
        "Implementation of Plestenjak's Planar Graph Drawing Algorithm"
      ]
    },
    {
      "cell_type": "code",
      "metadata": {
        "colab": {
          "base_uri": "https://localhost:8080/",
          "height": 380
        },
        "id": "aTtsT0ttJzwV",
        "outputId": "65422bb2-83f2-4cf1-973a-9ee9fdcb2c8e"
      },
      "source": [
        "import math\r\n",
        "import random\r\n",
        "import numpy as np\r\n",
        "import networkx as nx\r\n",
        "import networkx.algorithms.cycles as cyc\r\n",
        "import matplotlib.pyplot as plt\r\n",
        "\r\n",
        "#testing Tutte Graph\r\n",
        "G = nx.tutte_graph() #[0, 1, 2, ..., 44, 45]\r\n",
        "n = len(G.nodes)\r\n",
        "\r\n",
        "#recommended parameters\r\n",
        "C = math.sqrt(n / math.pi)\r\n",
        "def cool(i):\r\n",
        "  return math.sqrt(math.pi / n) / ((1 + (math.pi / n) * i ** (3 / 2)))\r\n",
        "\r\n",
        "#actual algorithm, adds the coordinates to each node. We can automate the maxIteration\r\n",
        "def PlanarEmbed(G, C, cool, max):\r\n",
        "    #at the moment, random source and ignore orientation (good)\r\n",
        "    source = random.sample(list(G.nodes), 1)[0]\r\n",
        "    outerCycle = list(cyc.find_cycle(G, source=source))\r\n",
        "    #get inner and outer node sets\r\n",
        "    outerNodes = [e[0] for e in outerCycle]\r\n",
        "    innerNodes = [v for v in G.nodes if not v in outerNodes]\r\n",
        "\r\n",
        "    #step 1\r\n",
        "    q = len(outerNodes)\r\n",
        "    for i in range(q): #for outer nodes, unit circle coordinates\r\n",
        "        v = outerNodes[i]\r\n",
        "        angle = (2 * math.pi * i) / q\r\n",
        "        x, y = math.cos(angle), math.sin(angle)\r\n",
        "        G.nodes[v][\"position\"] = np.array([x, y], dtype=float)\r\n",
        "\r\n",
        "    for v in innerNodes: #for inner nodes, zero vector coordinate\r\n",
        "        G.nodes[v][\"position\"] = np.zeros(2, dtype=float)\r\n",
        "\r\n",
        "    #step 2\r\n",
        "    for i in range(max):\r\n",
        "        for v in G.nodes: #a: set the force to 0 for all v\r\n",
        "            G.nodes[v][\"force\"] = np.zeros(2, dtype=float)\r\n",
        "        \r\n",
        "        for e in G.edges: #b: adjust force for inner and outer v\r\n",
        "            u = e[0]\r\n",
        "            v = e[1]\r\n",
        "            posv = G.nodes[v][\"position\"]\r\n",
        "            posu = G.nodes[u][\"position\"]\r\n",
        "            F = C * np.power((posv - posu), 3)\r\n",
        "            G.nodes[u][\"force\"] += F\r\n",
        "            G.nodes[v][\"force\"] -= F\r\n",
        "        \r\n",
        "        for v in innerNodes: #c: move coordinates for inner v\r\n",
        "            F = G.nodes[v][\"force\"]\r\n",
        "            d = np.linalg.norm(F)\r\n",
        "            if (d > 0): #avoids div by 0, not all inner are neighbors to outers\r\n",
        "                G.nodes[v][\"position\"] += (min([d, cool(i)]) / d) * F \r\n",
        "\r\n",
        "def PlotGraph(G):\r\n",
        "    for e in G.edges:\r\n",
        "        u = e[0]\r\n",
        "        v = e[1]\r\n",
        "        pos1 = G.nodes[u][\"position\"]\r\n",
        "        pos2 = G.nodes[v][\"position\"]\r\n",
        "        x1, x2 = pos1[0], pos2[0]\r\n",
        "        y1, y2 = pos1[1], pos2[1]\r\n",
        "        plt.plot([x1, x2], [y1, y2], 'go-', linewidth=2)\r\n",
        "\r\n",
        "PlanarEmbed(G, C, cool, 500)\r\n",
        "PlotGraph(G)\r\n"
      ],
      "execution_count": 109,
      "outputs": [
        {
          "output_type": "error",
          "ename": "NetworkXNoCycle",
          "evalue": "ignored",
          "traceback": [
            "\u001b[0;31m---------------------------------------------------------------------------\u001b[0m",
            "\u001b[0;31mNetworkXNoCycle\u001b[0m                           Traceback (most recent call last)",
            "\u001b[0;32m<ipython-input-109-f56bdba9e746>\u001b[0m in \u001b[0;36m<module>\u001b[0;34m()\u001b[0m\n\u001b[1;32m     65\u001b[0m         \u001b[0mplt\u001b[0m\u001b[0;34m.\u001b[0m\u001b[0mplot\u001b[0m\u001b[0;34m(\u001b[0m\u001b[0;34m[\u001b[0m\u001b[0mx1\u001b[0m\u001b[0;34m,\u001b[0m \u001b[0mx2\u001b[0m\u001b[0;34m]\u001b[0m\u001b[0;34m,\u001b[0m \u001b[0;34m[\u001b[0m\u001b[0my1\u001b[0m\u001b[0;34m,\u001b[0m \u001b[0my2\u001b[0m\u001b[0;34m]\u001b[0m\u001b[0;34m,\u001b[0m \u001b[0;34m'go-'\u001b[0m\u001b[0;34m,\u001b[0m \u001b[0mlinewidth\u001b[0m\u001b[0;34m=\u001b[0m\u001b[0;36m2\u001b[0m\u001b[0;34m)\u001b[0m\u001b[0;34m\u001b[0m\u001b[0;34m\u001b[0m\u001b[0m\n\u001b[1;32m     66\u001b[0m \u001b[0;34m\u001b[0m\u001b[0m\n\u001b[0;32m---> 67\u001b[0;31m \u001b[0mPlanarEmbed\u001b[0m\u001b[0;34m(\u001b[0m\u001b[0mG\u001b[0m\u001b[0;34m,\u001b[0m \u001b[0mC\u001b[0m\u001b[0;34m,\u001b[0m \u001b[0mcool\u001b[0m\u001b[0;34m,\u001b[0m \u001b[0;36m500\u001b[0m\u001b[0;34m)\u001b[0m\u001b[0;34m\u001b[0m\u001b[0;34m\u001b[0m\u001b[0m\n\u001b[0m\u001b[1;32m     68\u001b[0m \u001b[0mPlotGraph\u001b[0m\u001b[0;34m(\u001b[0m\u001b[0mG\u001b[0m\u001b[0;34m)\u001b[0m\u001b[0;34m\u001b[0m\u001b[0;34m\u001b[0m\u001b[0m\n",
            "\u001b[0;32m<ipython-input-109-f56bdba9e746>\u001b[0m in \u001b[0;36mPlanarEmbed\u001b[0;34m(G, C, cool, max)\u001b[0m\n\u001b[1;32m     19\u001b[0m     \u001b[0;31m#at the moment, random source and ignore orientation (good)\u001b[0m\u001b[0;34m\u001b[0m\u001b[0;34m\u001b[0m\u001b[0;34m\u001b[0m\u001b[0m\n\u001b[1;32m     20\u001b[0m     \u001b[0msource\u001b[0m \u001b[0;34m=\u001b[0m \u001b[0mrandom\u001b[0m\u001b[0;34m.\u001b[0m\u001b[0msample\u001b[0m\u001b[0;34m(\u001b[0m\u001b[0mlist\u001b[0m\u001b[0;34m(\u001b[0m\u001b[0mG\u001b[0m\u001b[0;34m.\u001b[0m\u001b[0mnodes\u001b[0m\u001b[0;34m)\u001b[0m\u001b[0;34m,\u001b[0m \u001b[0;36m1\u001b[0m\u001b[0;34m)\u001b[0m\u001b[0;34m[\u001b[0m\u001b[0;36m0\u001b[0m\u001b[0;34m]\u001b[0m\u001b[0;34m\u001b[0m\u001b[0;34m\u001b[0m\u001b[0m\n\u001b[0;32m---> 21\u001b[0;31m     \u001b[0mouterCycle\u001b[0m \u001b[0;34m=\u001b[0m \u001b[0mlist\u001b[0m\u001b[0;34m(\u001b[0m\u001b[0mcyc\u001b[0m\u001b[0;34m.\u001b[0m\u001b[0mfind_cycle\u001b[0m\u001b[0;34m(\u001b[0m\u001b[0mG\u001b[0m\u001b[0;34m,\u001b[0m \u001b[0msource\u001b[0m\u001b[0;34m=\u001b[0m\u001b[0msource\u001b[0m\u001b[0;34m)\u001b[0m\u001b[0;34m)\u001b[0m\u001b[0;34m\u001b[0m\u001b[0;34m\u001b[0m\u001b[0m\n\u001b[0m\u001b[1;32m     22\u001b[0m     \u001b[0;31m#get inner and outer node sets\u001b[0m\u001b[0;34m\u001b[0m\u001b[0;34m\u001b[0m\u001b[0;34m\u001b[0m\u001b[0m\n\u001b[1;32m     23\u001b[0m     \u001b[0mouterNodes\u001b[0m \u001b[0;34m=\u001b[0m \u001b[0;34m[\u001b[0m\u001b[0me\u001b[0m\u001b[0;34m[\u001b[0m\u001b[0;36m0\u001b[0m\u001b[0;34m]\u001b[0m \u001b[0;32mfor\u001b[0m \u001b[0me\u001b[0m \u001b[0;32min\u001b[0m \u001b[0mouterCycle\u001b[0m\u001b[0;34m]\u001b[0m\u001b[0;34m\u001b[0m\u001b[0;34m\u001b[0m\u001b[0m\n",
            "\u001b[0;32m/usr/local/lib/python3.7/dist-packages/networkx/algorithms/cycles.py\u001b[0m in \u001b[0;36mfind_cycle\u001b[0;34m(G, source, orientation)\u001b[0m\n\u001b[1;32m    484\u001b[0m     \u001b[0;32melse\u001b[0m\u001b[0;34m:\u001b[0m\u001b[0;34m\u001b[0m\u001b[0;34m\u001b[0m\u001b[0m\n\u001b[1;32m    485\u001b[0m         \u001b[0;32massert\u001b[0m \u001b[0mlen\u001b[0m\u001b[0;34m(\u001b[0m\u001b[0mcycle\u001b[0m\u001b[0;34m)\u001b[0m \u001b[0;34m==\u001b[0m \u001b[0;36m0\u001b[0m\u001b[0;34m\u001b[0m\u001b[0;34m\u001b[0m\u001b[0m\n\u001b[0;32m--> 486\u001b[0;31m         \u001b[0;32mraise\u001b[0m \u001b[0mnx\u001b[0m\u001b[0;34m.\u001b[0m\u001b[0mexception\u001b[0m\u001b[0;34m.\u001b[0m\u001b[0mNetworkXNoCycle\u001b[0m\u001b[0;34m(\u001b[0m\u001b[0;34m\"No cycle found.\"\u001b[0m\u001b[0;34m)\u001b[0m\u001b[0;34m\u001b[0m\u001b[0;34m\u001b[0m\u001b[0m\n\u001b[0m\u001b[1;32m    487\u001b[0m \u001b[0;34m\u001b[0m\u001b[0m\n\u001b[1;32m    488\u001b[0m     \u001b[0;31m# We now have a list of edges which ends on a cycle.\u001b[0m\u001b[0;34m\u001b[0m\u001b[0;34m\u001b[0m\u001b[0;34m\u001b[0m\u001b[0m\n",
            "\u001b[0;31mNetworkXNoCycle\u001b[0m: No cycle found."
          ]
        }
      ]
    },
    {
      "cell_type": "markdown",
      "metadata": {
        "id": "fn8hZsjtgCEF"
      },
      "source": [
        "References:\r\n",
        "\r\n",
        "---\r\n",
        "\r\n",
        "B. Plestenjak, 'An Algorithm for Drawing Planar Graphs' https://www.fmf.uni-lj.si/~plestenjak/Papers/schlegel"
      ]
    }
  ]
}